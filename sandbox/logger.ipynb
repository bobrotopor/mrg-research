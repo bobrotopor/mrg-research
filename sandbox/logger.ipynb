{
 "cells": [
  {
   "cell_type": "code",
   "execution_count": 36,
   "metadata": {},
   "outputs": [],
   "source": [
    "\n",
    "import numpy as np\n",
    "\n",
    "class FloatDataHistory(object):\n",
    "\n",
    "    def __init__(self, var_names: tuple[str]) -> None:\n",
    "        self.var_names = var_names\n",
    "        self.num_vars = len(var_names)\n",
    "        self.history = np.empty((0, self.num_vars))\n",
    "        \n",
    "\n",
    "    def add(self, data: np.array):\n",
    "        \n",
    "        if np.size(data) != self.num_vars:\n",
    "            raise Exception(f'got shape {np.shape(data)}, but num_vars is {self.num_vars}')\n",
    "        data = np.reshape(data, (1, self.num_vars))\n",
    "        self.history = np.vstack((self.history, data))\n",
    "\n",
    "\n",
    "    def to_csv(self, file_name: str = 'history', path: str = None, header: bool=True):\n",
    "        if header is True:\n",
    "            str_header = ''\n",
    "            for idx, var_name in enumerate(self.var_names): \n",
    "                str_header+=var_name\n",
    "                if idx != self.num_vars-1:\n",
    "                    str_header+=','\n",
    "            print(str_header)\n",
    "            np.savetxt(f'{file_name}.csv', self.history, delimiter=\",\", header=str_header, comments='')\n",
    "        else:\n",
    "            np.savetxt(f'{file_name}.csv', self.history, delimiter=\",\", comments='')"
   ]
  },
  {
   "cell_type": "code",
   "execution_count": 37,
   "metadata": {},
   "outputs": [
    {
     "name": "stdout",
     "output_type": "stream",
     "text": [
      "time,x1,x2\n"
     ]
    }
   ],
   "source": [
    "history = FloatDataHistory(('time', 'x1', 'x2'))\n",
    "history.add(np.array([0,1,2]))\n",
    "history.add(np.array([0,1,2]))\n",
    "history.add(np.array([0,1,7]))\n",
    "history.to_csv()"
   ]
  }
 ],
 "metadata": {
  "kernelspec": {
   "display_name": ".venv",
   "language": "python",
   "name": "python3"
  },
  "language_info": {
   "codemirror_mode": {
    "name": "ipython",
    "version": 3
   },
   "file_extension": ".py",
   "mimetype": "text/x-python",
   "name": "python",
   "nbconvert_exporter": "python",
   "pygments_lexer": "ipython3",
   "version": "3.10.11"
  }
 },
 "nbformat": 4,
 "nbformat_minor": 2
}
